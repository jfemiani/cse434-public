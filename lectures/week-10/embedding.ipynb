{
 "cells": [
  {
   "cell_type": "markdown",
   "id": "ecb4f524",
   "metadata": {},
   "source": [
    "# Finding Embeddings Demo"
   ]
  },
  {
   "cell_type": "markdown",
   "id": "f0162936",
   "metadata": {},
   "source": [
    "## Introduction\n",
    "\n",
    "In this demo, we'll explore word embeddings, which are dense vector representations of words that capture their semantic meanings. We'll start by generating simple co-occurrence-based embeddings and then utilize pre-defined embeddings with our BPE tokenizer. Finally, we'll integrate these embeddings with our n-gram model using approximate nearest neighbors matching to enhance text generation."
   ]
  },
  {
   "cell_type": "markdown",
   "id": "998b39e6",
   "metadata": {},
   "source": [
    "## 1. Generating Simple Embeddings\n",
    "\n",
    "**Objectives:**\n",
    "- Understand basic methods to generate word embeddings.\n",
    "- Implement a simple co-occurrence-based embedding."
   ]
  },
  {
   "cell_type": "code",
   "execution_count": 2,
   "id": "476a9a08",
   "metadata": {
    "lines_to_next_cell": 1,
    "title": "[code]"
   },
   "outputs": [
    {
     "name": "stdout",
     "output_type": "stream",
     "text": [
      "Corpus length: 163918 characters\n"
     ]
    }
   ],
   "source": [
    "import numpy as np\n",
    "from collections import defaultdict\n",
    "import re\n",
    "import urllib.request\n",
    "import os\n",
    "import zipfile\n",
    "from sklearn.metrics.pairwise import cosine_similarity\n",
    "\n",
    "def download_corpus(url, filename):\n",
    "    \"\"\"\n",
    "    Download the corpus from the specified URL and save it to the given filename.\n",
    "    \n",
    "    Args:\n",
    "        url (str): The URL to download the corpus from.\n",
    "        filename (str): The local filename to save the downloaded corpus.\n",
    "        \n",
    "    Returns:\n",
    "        str: The path to the downloaded corpus file.\n",
    "    \"\"\"\n",
    "    urllib.request.urlretrieve(url, filename)\n",
    "    print(f\"Corpus downloaded successfully and saved to {filename}.\")\n",
    "    return filename\n",
    "\n",
    "# URL for \"Alice's Adventures in Wonderland\"\n",
    "corpus_url = 'https://www.gutenberg.org/files/11/11-0.txt'\n",
    "filename = 'alice_in_wonderland.txt'\n",
    "\n",
    "# Download the corpus\n",
    "if not os.path.exists(filename):\n",
    "    download_corpus(corpus_url, filename)\n",
    "\n",
    "# Read the corpus\n",
    "with open(filename, 'r', encoding='utf-8') as f:\n",
    "    corpus = f.read()\n",
    "\n",
    "print(f\"Corpus length: {len(corpus)} characters\")"
   ]
  },
  {
   "cell_type": "code",
   "execution_count": 3,
   "id": "962cd749",
   "metadata": {},
   "outputs": [],
   "source": [
    "def generate_simple_embeddings(tokens, embedding_dim=50, window_size=2):\n",
    "    \"\"\"\n",
    "    Generate simple word embeddings based on co-occurrence within a window.\n",
    "    \n",
    "    Args:\n",
    "        tokens (list): List of tokens from the corpus.\n",
    "        embedding_dim (int): Dimension of the embedding vectors.\n",
    "        window_size (int): The size of the context window.\n",
    "        \n",
    "    Returns:\n",
    "        dict: A dictionary mapping each word to its embedding vector.\n",
    "    \"\"\"\n",
    "    # Initialize co-occurrence matrix\n",
    "    co_occurrence = defaultdict(lambda: defaultdict(int))\n",
    "    vocabulary = set(tokens)\n",
    "    \n",
    "    for index, word in enumerate(tokens):\n",
    "        for i in range(1, window_size + 1):\n",
    "            if index + i < len(tokens):\n",
    "                context_word = tokens[index + i]\n",
    "                co_occurrence[word][context_word] += 1\n",
    "            if index - i >= 0:\n",
    "                context_word = tokens[index - i]\n",
    "                co_occurrence[word][context_word] += 1\n",
    "    \n",
    "    # Initialize embeddings randomly\n",
    "    embeddings = {word: np.random.rand(embedding_dim) for word in vocabulary}\n",
    "    \n",
    "    # Simple update: sum context vectors weighted by co-occurrence frequency\n",
    "    for word in vocabulary:\n",
    "        for context_word, freq in co_occurrence[word].items():\n",
    "            embeddings[word] += freq * embeddings[context_word]\n",
    "    \n",
    "    # Normalize embeddings\n",
    "    for word in embeddings:\n",
    "        norm = np.linalg.norm(embeddings[word])\n",
    "        if norm > 0:\n",
    "            embeddings[word] = embeddings[word] / norm\n",
    "    \n",
    "    return embeddings"
   ]
  },
  {
   "cell_type": "code",
   "execution_count": 5,
   "id": "bd3579ba",
   "metadata": {
    "lines_to_next_cell": 0
   },
   "outputs": [
    {
     "name": "stdout",
     "output_type": "stream",
     "text": [
      "Total tokens: 30591\n",
      "Tokens: ['the', 'project', 'gutenberg', 'ebook', 'of', 'alice', 's', 'adventures', 'in', 'wonderland']\n"
     ]
    }
   ],
   "source": [
    "# Tokenize the corpus using simple whitespace tokenization\n",
    "tokens = re.findall(r'\\b\\w+\\b', corpus.lower())\n",
    "print(f\"Total tokens: {len(tokens)}\")\n",
    "print(\"Tokens:\", tokens[:10])"
   ]
  },
  {
   "cell_type": "code",
   "execution_count": 6,
   "id": "788fad66",
   "metadata": {
    "title": "[code]"
   },
   "outputs": [
    {
     "name": "stdout",
     "output_type": "stream",
     "text": [
      "Generated embeddings for 3144 words.\n",
      "Sample embeddings:\n",
      "two: [0.13925314 0.1434551  0.1540751  0.15973252 0.15557855]...\n",
      "won: [0.14112709 0.15772376 0.1024333  0.10957601 0.0833924 ]...\n",
      "immediately: [0.15639459 0.1703086  0.08464753 0.15757425 0.15900974]...\n",
      "trying: [0.12632004 0.15426433 0.10309681 0.17229259 0.13676421]...\n",
      "fancy: [0.10967216 0.17254131 0.14376178 0.1273823  0.14933461]...\n"
     ]
    }
   ],
   "source": [
    "embedding_dim = 50\n",
    "window_size = 2\n",
    "\n",
    "# Generate simple embeddings\n",
    "simple_embeddings = generate_simple_embeddings(tokens, embedding_dim, window_size)\n",
    "print(f\"Generated embeddings for {len(simple_embeddings)} words.\")\n",
    "print(\"Sample embeddings:\")\n",
    "sample_words = list(simple_embeddings.keys())[:5]\n",
    "for word in sample_words:\n",
    "    print(f\"{word}: {simple_embeddings[word][:5]}...\")  # Display first 5 dimensions"
   ]
  },
  {
   "cell_type": "code",
   "execution_count": 15,
   "id": "49c284e3",
   "metadata": {},
   "outputs": [],
   "source": [
    "# %pip install umap"
   ]
  },
  {
   "cell_type": "code",
   "execution_count": 16,
   "id": "8adc847e",
   "metadata": {},
   "outputs": [],
   "source": [
    "import matplotlib.pyplot as plt\n",
    "from sklearn.manifold import TSNE\n",
    "import umap\n",
    "import random\n",
    "\n",
    "def plot_embeddings(embeddings, num_words=100, method='tsne', random_state=42):\n",
    "    \"\"\"\n",
    "    Plot word embeddings using t-SNE or UMAP.\n",
    "    \n",
    "    Args:\n",
    "        embeddings (dict): Mapping of tokens to embedding vectors.\n",
    "        num_words (int): Number of words to plot.\n",
    "        method (str): 'tsne' or 'umap'.\n",
    "        random_state (int): Seed for reproducibility.\n",
    "    \"\"\"\n",
    "    # Select a random subset of words\n",
    "    if num_words > len(embeddings):\n",
    "        num_words = len(embeddings)\n",
    "    sampled_tokens = random.sample(list(embeddings.keys()), num_words)\n",
    "    sampled_embeddings = np.array([embeddings[token] for token in sampled_tokens])\n",
    "    \n",
    "    # Dimensionality reduction\n",
    "    if method == 'tsne':\n",
    "        reducer = TSNE(n_components=2, random_state=random_state, perplexity=30)\n",
    "        reduced_embeddings = reducer.fit_transform(sampled_embeddings)\n",
    "    elif method == 'umap':\n",
    "        reducer = umap.UMAP(n_components=2, random_state=random_state)\n",
    "        reduced_embeddings = reducer.fit_transform(sampled_embeddings)\n",
    "    else:\n",
    "        raise ValueError(\"Method must be 'tsne' or 'umap'\")\n",
    "    \n",
    "    # Plotting\n",
    "    plt.figure(figsize=(12, 8))\n",
    "    plt.scatter(reduced_embeddings[:, 0], reduced_embeddings[:, 1], marker='o', edgecolor='k')\n",
    "    \n",
    "    for i, token in enumerate(sampled_tokens):\n",
    "        plt.annotate(token, (reduced_embeddings[i, 0], reduced_embeddings[i, 1]))\n",
    "    \n",
    "    plt.title(f'Word Embeddings Visualized using {method.upper()}')\n",
    "    plt.xlabel('Component 1')\n",
    "    plt.ylabel('Component 2')\n",
    "    plt.grid(True)\n",
    "    plt.show()"
   ]
  },
  {
   "cell_type": "code",
   "execution_count": 19,
   "id": "d7725d89",
   "metadata": {},
   "outputs": [
    {
     "name": "stdout",
     "output_type": "stream",
     "text": [
      "Plotting embeddings with t-SNE...\n"
     ]
    },
    {
     "data": {
      "image/png": "[encoded data removed]",
      "text/plain": [
       "<Figure size 1200x800 with 1 Axes>"
      ]
     },
     "metadata": {},
     "output_type": "display_data"
    }
   ],
   "source": [
    "print(\"Plotting embeddings with t-SNE...\")\n",
    "plot_embeddings(simple_embeddings, num_words=50, method='tsne')"
   ]
  },
  {
   "cell_type": "code",
   "execution_count": 21,
   "id": "705dc768",
   "metadata": {},
   "outputs": [
    {
     "name": "stdout",
     "output_type": "stream",
     "text": [
      "Plotting embeddings with UMAP...\n"
     ]
    },
    {
     "ename": "AttributeError",
     "evalue": "module 'umap' has no attribute 'UMAP'",
     "output_type": "error",
     "traceback": [
      "\u001b[0;31m---------------------------------------------------------------------------\u001b[0m",
      "\u001b[0;31mAttributeError\u001b[0m                            Traceback (most recent call last)",
      "Cell \u001b[0;32mIn[21], line 3\u001b[0m\n\u001b[1;32m      1\u001b[0m \u001b[38;5;66;03m# Plot using UMAP\u001b[39;00m\n\u001b[1;32m      2\u001b[0m \u001b[38;5;28mprint\u001b[39m(\u001b[38;5;124m\"\u001b[39m\u001b[38;5;124mPlotting embeddings with UMAP...\u001b[39m\u001b[38;5;124m\"\u001b[39m)\n\u001b[0;32m----> 3\u001b[0m \u001b[43mplot_embeddings\u001b[49m\u001b[43m(\u001b[49m\u001b[43msimple_embeddings\u001b[49m\u001b[43m,\u001b[49m\u001b[43m \u001b[49m\u001b[43mnum_words\u001b[49m\u001b[38;5;241;43m=\u001b[39;49m\u001b[38;5;241;43m20\u001b[39;49m\u001b[43m,\u001b[49m\u001b[43m \u001b[49m\u001b[43mmethod\u001b[49m\u001b[38;5;241;43m=\u001b[39;49m\u001b[38;5;124;43m'\u001b[39;49m\u001b[38;5;124;43mumap\u001b[39;49m\u001b[38;5;124;43m'\u001b[39;49m\u001b[43m)\u001b[49m\n\u001b[1;32m      4\u001b[0m \u001b[38;5;66;03m# END SOLUTION\u001b[39;00m\n",
      "Cell \u001b[0;32mIn[16], line 27\u001b[0m, in \u001b[0;36mplot_embeddings\u001b[0;34m(embeddings, num_words, method, random_state)\u001b[0m\n\u001b[1;32m     25\u001b[0m     reduced_embeddings \u001b[38;5;241m=\u001b[39m reducer\u001b[38;5;241m.\u001b[39mfit_transform(sampled_embeddings)\n\u001b[1;32m     26\u001b[0m \u001b[38;5;28;01melif\u001b[39;00m method \u001b[38;5;241m==\u001b[39m \u001b[38;5;124m'\u001b[39m\u001b[38;5;124mumap\u001b[39m\u001b[38;5;124m'\u001b[39m:\n\u001b[0;32m---> 27\u001b[0m     reducer \u001b[38;5;241m=\u001b[39m \u001b[43mumap\u001b[49m\u001b[38;5;241;43m.\u001b[39;49m\u001b[43mUMAP\u001b[49m(n_components\u001b[38;5;241m=\u001b[39m\u001b[38;5;241m2\u001b[39m, random_state\u001b[38;5;241m=\u001b[39mrandom_state)\n\u001b[1;32m     28\u001b[0m     reduced_embeddings \u001b[38;5;241m=\u001b[39m reducer\u001b[38;5;241m.\u001b[39mfit_transform(sampled_embeddings)\n\u001b[1;32m     29\u001b[0m \u001b[38;5;28;01melse\u001b[39;00m:\n",
      "\u001b[0;31mAttributeError\u001b[0m: module 'umap' has no attribute 'UMAP'"
     ]
    }
   ],
   "source": [
    "\n",
    "# Plot using UMAP\n",
    "print(\"Plotting embeddings with UMAP...\")\n",
    "plot_embeddings(simple_embeddings, num_words=20, method='umap')\n",
    "# END SOLUTION\n"
   ]
  },
  {
   "cell_type": "markdown",
   "id": "d5a60e71",
   "metadata": {},
   "source": [
    "## 2. Using Pre-Defined Embeddings and Tokenizer\n",
    "\n",
    "**Objectives:**\n",
    "- Load pre-trained word embeddings (GloVe).\n",
    "- Map tokens to their corresponding embedding vectors using the BPE tokenizer.\n",
    "- Explore semantic similarities using these embeddings."
   ]
  },
  {
   "cell_type": "code",
   "execution_count": 7,
   "id": "f48bb957",
   "metadata": {
    "lines_to_next_cell": 1,
    "title": "[code]"
   },
   "outputs": [],
   "source": [
    "def load_pretrained_embeddings(glove_path, embedding_dim=50):\n",
    "    \"\"\"\n",
    "    Load pre-trained GloVe embeddings from a file.\n",
    "    \n",
    "    Args:\n",
    "        glove_path (str): Path to the GloVe embeddings file.\n",
    "        embedding_dim (int): Dimension of the embedding vectors.\n",
    "        \n",
    "    Returns:\n",
    "        dict: A dictionary mapping words to their embedding vectors.\n",
    "    \"\"\"\n",
    "    embeddings = {}\n",
    "    with open(glove_path, 'r', encoding='utf-8') as f:\n",
    "        for line in f:\n",
    "            values = line.split()\n",
    "            word = values[0]\n",
    "            vector = np.array(values[1:], dtype='float32')\n",
    "            if len(vector) == embedding_dim:\n",
    "                embeddings[word] = vector\n",
    "    return embeddings"
   ]
  },
  {
   "cell_type": "code",
   "execution_count": 12,
   "id": "a91e3d61",
   "metadata": {
    "title": "[code]"
   },
   "outputs": [
    {
     "name": "stdout",
     "output_type": "stream",
     "text": [
      "Downloading GloVe embeddings...\n",
      "GloVe embeddings downloaded and extracted.\n"
     ]
    }
   ],
   "source": [
    "# Download GloVe embeddings if not already present\n",
    "glove_dim = 50\n",
    "glove_filename = f'glove.6B.{glove_dim}d.txt'\n",
    "glove_zip = 'glove.6B.zip'\n",
    "glove_url = f'http://nlp.stanford.edu/data/glove.6B.zip'\n",
    "\n",
    "if not os.path.exists(glove_filename):\n",
    "    if not os.path.exists(glove_zip):\n",
    "        print(\"Downloading GloVe embeddings...\")\n",
    "        urllib.request.urlretrieve(glove_url, glove_zip)\n",
    "    with zipfile.ZipFile(glove_zip, 'r') as zip_ref:\n",
    "        zip_ref.extractall('.')\n",
    "    print(\"GloVe embeddings downloaded and extracted.\")"
   ]
  },
  {
   "cell_type": "code",
   "execution_count": 27,
   "id": "919d2f59",
   "metadata": {},
   "outputs": [
    {
     "name": "stdout",
     "output_type": "stream",
     "text": [
      "Loaded 400000 pre-trained embeddings.\n",
      "Sample embeddings:\n",
      "the: [ 0.418    0.24968 -0.41242  0.1217   0.34527]...\n",
      ",: [ 0.013441  0.23682  -0.16899   0.40951   0.63812 ]...\n",
      ".: [ 0.15164  0.30177 -0.16763  0.17684  0.31719]...\n",
      "of: [ 0.70853  0.57088 -0.4716   0.18048  0.54449]...\n",
      "to: [ 0.68047  -0.039263  0.30186  -0.17792   0.42962 ]...\n"
     ]
    }
   ],
   "source": [
    "# Load GloVe embeddings\n",
    "pretrained_embeddings = load_pretrained_embeddings(glove_filename, glove_dim)\n",
    "print(f\"Loaded {len(pretrained_embeddings)} pre-trained embeddings.\")\n",
    "print(\"Sample embeddings:\")\n",
    "sample_words = list(pretrained_embeddings.keys())[:5]\n",
    "for word in sample_words:\n",
    "    print(f\"{word}: {pretrained_embeddings[word][:5]}...\")  # Display first 5 dimensions"
   ]
  },
  {
   "cell_type": "code",
   "execution_count": 28,
   "id": "378b6485",
   "metadata": {
    "lines_to_next_cell": 0
   },
   "outputs": [],
   "source": [
    "def map_tokens_to_embeddings(tokens, pretrained_embeddings, embedding_dim=50):\n",
    "    token_embeddings = {}\n",
    "    for token in set(tokens):\n",
    "        if token in pretrained_embeddings:\n",
    "            token_embeddings[token] = pretrained_embeddings[token]\n",
    "        else:\n",
    "            # Initialize random embedding for unknown tokens\n",
    "            token_embeddings[token] = np.random.rand(embedding_dim)\n",
    "    return token_embeddings"
   ]
  },
  {
   "cell_type": "code",
   "execution_count": 29,
   "id": "f5aac93a",
   "metadata": {
    "title": "[code]"
   },
   "outputs": [
    {
     "name": "stdout",
     "output_type": "stream",
     "text": [
      "Mapped 3144 tokens to embeddings.\n",
      "Sample token embeddings:\n",
      "two: [0.58289 0.36258 0.34065 0.36416 0.34337]...\n",
      "won: [-1.5561   0.86241  0.14604  1.1389  -0.16875]...\n",
      "immediately: [ 0.7172  -0.50492  0.21984 -0.30208  0.19903]...\n",
      "trying: [ 0.44349 -0.7187   0.74168 -0.30663  0.32147]...\n",
      "fancy: [ 0.23749  -0.013988 -0.88366  -0.26156   0.055294]...\n"
     ]
    }
   ],
   "source": [
    "# Here, we'll reuse the simple tokenization\n",
    "# Tokenize the corpus using simple whitespace tokenization\n",
    "tokens = re.findall(r'\\b\\w+\\b', corpus.lower())\n",
    "\n",
    "# Map tokens to embeddings\n",
    "token_embeddings = map_tokens_to_embeddings(tokens, pretrained_embeddings, glove_dim)\n",
    "print(f\"Mapped {len(token_embeddings)} tokens to embeddings.\")\n",
    "print(\"Sample token embeddings:\")\n",
    "sample_tokens = list(token_embeddings.keys())[:5]\n",
    "for token in sample_tokens:\n",
    "    print(f\"{token}: {token_embeddings[token][:5]}...\")  # Display first 5 dimensions"
   ]
  },
  {
   "cell_type": "markdown",
   "id": "298453f6",
   "metadata": {},
   "source": [
    "## 3. Integrating Embeddings with N-Grams Using Approximate Nearest Neighbors\n",
    "\n",
    "**Objectives:**\n",
    "- Utilize embeddings to perform approximate nearest neighbors matching for n-grams.\n",
    "- Enhance the n-gram model by considering semantic similarities.\n",
    "\n",
    "**Demo:**\n",
    "\n",
    "Instead of relying on exact matches in the n-gram frequency dictionary, we'll use cosine similarity between embeddings to find the nearest matching tokens. This allows the model to generate more semantically coherent text by considering similar words rather than only exact next words."
   ]
  },
  {
   "cell_type": "code",
   "execution_count": null,
   "id": "110e1ce0",
   "metadata": {
    "lines_to_next_cell": 1,
    "title": "[code]"
   },
   "outputs": [],
   "source": [
    "def get_nearest_token(current_token, token_embeddings, top_n=1):\n",
    "    \"\"\"\n",
    "    Find the nearest token(s) based on cosine similarity.\n",
    "    \n",
    "    Args:\n",
    "        current_token (str): The current token.\n",
    "        token_embeddings (dict): Mapping of tokens to embeddings.\n",
    "        top_n (int): Number of nearest tokens to return.\n",
    "        \n",
    "    Returns:\n",
    "        list: List of nearest tokens.\n",
    "    \"\"\"\n",
    "    if current_token not in token_embeddings:\n",
    "        return []\n",
    "    \n",
    "    current_vector = token_embeddings[current_token].reshape(1, -1)\n",
    "    similarities = {}\n",
    "    for token, vector in token_embeddings.items():\n",
    "        if token == current_token:\n",
    "            continue\n",
    "        sim = cosine_similarity(current_vector, vector.reshape(1, -1))[0][0]\n",
    "        similarities[token] = sim\n",
    "    \n",
    "    # Sort tokens by similarity score in descending order\n",
    "    sorted_similar = sorted(similarities.items(), key=lambda item: item[1], reverse=True)\n",
    "    return [token for token, sim in sorted_similar[:top_n]]\n",
    "\n",
    "def generate_text_with_embeddings(prefix, token_embeddings, beam_width=3, max_length=20):\n",
    "    \"\"\"\n",
    "    Generate text using n-grams with approximate nearest neighbors matching.\n",
    "    \n",
    "    Args:\n",
    "        prefix (str): The starting token.\n",
    "        token_embeddings (dict): Mapping of tokens to embeddings.\n",
    "        beam_width (int): Number of sequences to keep at each step.\n",
    "        max_length (int): Maximum number of tokens to generate.\n",
    "        \n",
    "    Returns:\n",
    "        list: Generated sequence of tokens.\n",
    "    \"\"\"\n",
    "    sequences = [(prefix, 0.0)]  # (sequence, score)\n",
    "    \n",
    "    for _ in range(max_length):\n",
    "        all_candidates = []\n",
    "        for seq, score in sequences:\n",
    "            last_token = seq.split()[-1]\n",
    "            nearest_tokens = get_nearest_token(last_token, token_embeddings, top_n=beam_width)\n",
    "            for token in nearest_tokens:\n",
    "                candidate_seq = seq + ' ' + token\n",
    "                candidate_score = score - math.log(1.0 / beam_width)  # Simplified scoring\n",
    "                all_candidates.append((candidate_seq, candidate_score))\n",
    "        \n",
    "        # Sort all candidates by score and select top beam_width\n",
    "        ordered = sorted(all_candidates, key=lambda tup: tup[1])\n",
    "        sequences = ordered[:beam_width]\n",
    "        \n",
    "        # Debug: Show current sequences\n",
    "        print(f\"Current sequences (beam_width={beam_width}):\")\n",
    "        for seq, sc in sequences:\n",
    "            print(f\"Sequence: {seq} | Score: {sc}\")\n",
    "        print(\"-\" * 50)\n",
    "        \n",
    "        # Stop if no candidates are available\n",
    "        if not sequences:\n",
    "            break\n",
    "    \n",
    "    # Select the sequence with the lowest score\n",
    "    best_sequence = min(sequences, key=lambda tup: tup[1])[0]\n",
    "    return best_sequence"
   ]
  },
  {
   "cell_type": "code",
   "execution_count": null,
   "id": "4016b9a0",
   "metadata": {
    "lines_to_next_cell": 0
   },
   "outputs": [],
   "source": []
  },
  {
   "cell_type": "code",
   "execution_count": null,
   "id": "26681c7c",
   "metadata": {
    "title": "[code]"
   },
   "outputs": [],
   "source": [
    "# BEGIN SOLUTION\n",
    "# Example seed prefix\n",
    "seed_prefix = \"alice\"\n",
    "\n",
    "# Generate text using embeddings-based n-gram model\n",
    "generated_sequence = generate_text_with_embeddings(seed_prefix, token_embeddings, beam_width=3, max_length=20)\n",
    "\n",
    "print(\"\\nGenerated Text with Embeddings-based N-Grams:\")\n",
    "print(generated_sequence)\n",
    "# END SOLUTION"
   ]
  },
  {
   "cell_type": "code",
   "execution_count": null,
   "id": "0f49df13",
   "metadata": {
    "lines_to_next_cell": 0
   },
   "outputs": [],
   "source": []
  },
  {
   "cell_type": "markdown",
   "id": "d6ac6102",
   "metadata": {},
   "source": [
    "## 4. Evaluation Exercise\n",
    "\n",
    "**Objective:**\n",
    "- Evaluate the impact of different techniques on text generation quality.\n",
    "\n",
    "**Task:**\n",
    "\n",
    "1. **N-Gram Evaluation:**\n",
    "   - Modify the n-gram model to support different values of N (e.g., 2, 3, 4).\n",
    "   - Generate text using each n-gram model and assess the coherence and diversity of the output.\n",
    "   - Consider metrics such as perplexity or BLEU scores for quantitative evaluation.\n",
    "\n",
    "2. **Embedding Matching Evaluation:**\n",
    "   - Compare text generation using exact n-gram matches versus approximate nearest neighbors matching.\n",
    "   - Analyze how semantic similarities influence the quality of the generated text.\n",
    "\n",
    "**Instructions:**\n",
    "\n",
    "- Implement the necessary modifications to support different n-gram sizes.\n",
    "- Use the `generate_text_with_embeddings` function with varying beam widths and embedding techniques.\n",
    "- Document your findings and provide insights into how each technique affects the model's performance."
   ]
  },
  {
   "cell_type": "code",
   "execution_count": null,
   "id": "b8fd400a",
   "metadata": {
    "lines_to_next_cell": 0
   },
   "outputs": [],
   "source": []
  },
  {
   "cell_type": "code",
   "execution_count": null,
   "id": "626f5700",
   "metadata": {
    "title": "[code]"
   },
   "outputs": [],
   "source": [
    "# Exercise implementation by the student"
   ]
  }
 ],
 "metadata": {
  "jupytext": {
   "cell_metadata_filter": "title,-all",
   "formats": "ipynb,py:percent",
   "main_language": "python"
  },
  "kernelspec": {
   "display_name": "cse434",
   "language": "python",
   "name": "python3"
  },
  "language_info": {
   "codemirror_mode": {
    "name": "ipython",
    "version": 3
   },
   "file_extension": ".py",
   "mimetype": "text/x-python",
   "name": "python",
   "nbconvert_exporter": "python",
   "pygments_lexer": "ipython3",
   "version": "3.12.7"
  }
 },
 "nbformat": 4,
 "nbformat_minor": 5
}
