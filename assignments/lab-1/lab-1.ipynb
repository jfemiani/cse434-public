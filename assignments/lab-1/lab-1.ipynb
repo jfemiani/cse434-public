{
 "cells": [
  {
   "cell_type": "markdown",
   "id": "16623a5a",
   "metadata": {
    "id": "73e94b6c"
   },
   "source": [
    "\n",
    "\n",
    "# Lab 1: Getting Started with Generative AI</h1>\n",
    "<img src=\"Figures/genAI.png\" alt=\"Generative AI models within AI\" width=\"500\" height=\"500\"/>\n",
    "\n",
    "In Generative AI, many models (especially in OpenAI) are closed-source. Meaning, the training data, hyperparameters, and weights that were used to create these models are not accessible to the public. Thus, the only way we have the availability to use them is through an API. While many open-source models exist, OpenAI has become the most accessible in terms of approachability, shifting the utilization of AI from Machine Learning engineers to front-end web developers (hence, a lower-level entry point).\n",
    "\n",
    "This lab is designed to setup up your GPT environment, as well as understand some basic tasks you can use LLMs for. Thus, this lab should be done *sequentially*, as the the milestones build off the previous milestones.\n",
    "\n",
    "As you will come to learn, a lot of the process of applying LLMs to an application is fairly straightforward and repetetive. Our goal is to demonstrate how you implement models in your applications, and create appropriate prompts for various use cases.\n",
    "\n",
    "<b>Only show your current progress to the instructor when prompted to.</b>"
   ]
  },
  {
   "cell_type": "markdown",
   "id": "942d4486",
   "metadata": {
    "id": "6fca49c8fc5ad898"
   },
   "source": [
    "## Milestone 1: Creating an account, secret key, and accessing tokens\n",
    "\n",
    "Before utilizing OpenAI's API, we must create an OpenAI account. All calls will require a secret key, which is how the API will link your account with your python calls without having to log in to an online portal (e.g. ChatGPT).\n",
    "\n",
    "#### 1.1. Go to [OpenAI's login](https://platform.openai.com/login?launch) to create an account. If you already have an OpenAI account, sign in.\n",
    "\n",
    "#### 1.2. After logging in to your account, you should be prompted to access either \"ChatGPT\" or the \"API\" ([link](https://platform.openai.com/apps)). Select \"API\".\n",
    "\n",
    "#### 1.3. <b>If you already have a secret key, skip this step.</b> After creating an account, on the left side, go to API keys, and select \"Create new secret key\". <span color=\"red\"><b>Save this key after generation. You will not be able to access the key after unless you save it.</b></span>\n",
    "\n",
    "<div style=\"margin-left: 20px;\">\n",
    "  <p>1.3a. If you are on your personal machine, follow <a href=\"https://platform.openai.com/docs/quickstart/step-2-setup-your-api-key\">Step 2: Setup your API key</a> to properly store your secret key. For Windows users, ensure you follow \"Permament setup\" so this will always be available.</p>\n",
    "  <p>1.3b. If you are on Google Colab, you can safely store your key in the \"Secrets\" tab.\n",
    "  &nbsp;\n",
    "  <img src=\"./Figures/key.png\" width=\"40\" alt=\"Google Colab secret key icon\">\n",
    "</div>\n",
    "\n",
    "#### 1.4. This course is structured so instead of purchasing textbooks, it requires **you** to pay for all prompts and models run. **[Click here for model pricing](https://openai.com/pricing)**. Go to [settings](https://platform.openai.com/account/organization), Billing. Select \"Individual\" and fill out the necessary billing information.\n",
    "\n",
    "<div style=\"margin-left: 20px;\">\n",
    "    <p>1.4a. <b>(Optional)</b> If you would like to set a monthly limit, you can by going to Limits and filling in \"Set a monthly budget\".</p>\n",
    "</div>\n",
    "\n",
    "#### 1.5. Congratulations, we can now utilize the API! Head to the [Chat Playground](https://platform.openai.com/playground?mode=chat) to test it out. No need to change any parameters.<b>Add and submit the message \"What is Miami University?\"</b>"
   ]
  },
  {
   "cell_type": "markdown",
   "id": "814297bb",
   "metadata": {
    "id": "983705fafe63ae14"
   },
   "source": [
    "Generated Message: Miami University is a public research university located in Oxford, Ohio. Established in 1809, it is one of the oldest universities in the United States. Miami University offers a wide range of undergraduate and graduate programs across various disciplines, including business, liberal arts, education, engineering, and health sciences. It is known for its strong emphasis on undergraduate education, small class sizes, and a highly engaged learning environment. Miami University is also recognized for its beautiful campus, historic architecture, and vibrant student life. <span color=\"red\">Actual output may vary, as will most things.</span>"
   ]
  },
  {
   "cell_type": "markdown",
   "id": "12767a48",
   "metadata": {
    "id": "e0ca05eb1f4965c0"
   },
   "source": [
    "## Milestone 2: Your first OpenAI API call\n",
    "\n",
    "In the bottom left of the web page, select [Documentation](https://platform.openai.com/docs/overview). As is the case with most (good) APIs, we will refer to the API documentation and reference throughout the course (Hint: If we say \"look up\" or \"search\" in regards to GPT, the documentation <i>should</i> be your first destination).\n",
    "\n",
    "#### 2.1. To utilize the API, you must have the library installed in your python environment, e.g., ```pip install openai``` or ```conda install openai```."
   ]
  },
  {
   "cell_type": "code",
   "execution_count": null,
   "id": "2725c84d",
   "metadata": {
    "id": "6404a91a463a2d52"
   },
   "outputs": [],
   "source": [
    "!pip install openai"
   ]
  },
  {
   "cell_type": "markdown",
   "id": "659f5225",
   "metadata": {
    "id": "c493e441ace3837b"
   },
   "source": [
    "#### 2.2. Follow [Step 3: Sending your first API request](https://platform.openai.com/docs/quickstart/step-3-sending-your-first-api-request). In the cell below, insert and run the same code block demonstrated"
   ]
  },
  {
   "cell_type": "code",
   "execution_count": null,
   "id": "a88a18e5",
   "metadata": {
    "id": "35ac3ad90ae44faa"
   },
   "outputs": [],
   "source": [
    "# Insert code here"
   ]
  },
  {
   "cell_type": "markdown",
   "id": "c04333a6",
   "metadata": {
    "id": "236fe5d3d6a6fb8f"
   },
   "source": [
    "#### 2.3. We will be utilizing a very similar structure for calls throughout the lab, so let's save this call as a method for convenience (i.e. removing repetetive code). <span color=\"red\"><b>Once you complete the method, show milestones 1 and 2 to the instructor.</b></span>"
   ]
  },
  {
   "cell_type": "code",
   "execution_count": null,
   "id": "04ff6e3f",
   "metadata": {
    "id": "27c7a7822759df6e"
   },
   "outputs": [],
   "source": [
    "# Insert code here"
   ]
  },
  {
   "cell_type": "markdown",
   "id": "1b1a8a9b",
   "metadata": {
    "id": "dd614a41ed6fe393"
   },
   "source": [
    "## Milestone 3: GPT Parameters\n",
    "\n",
    "#### 3.1. There are various parameters we can tune for GPT (as you may have seen in the Chat Playground). Search around to fill in what each mentioned parameter is and what it does.\n",
    "* ```model```:\n",
    "* ```messages```:\n",
    "* ```max_tokens```:\n",
    "* ```n```:\n",
    "* ```temperature```:"
   ]
  },
  {
   "cell_type": "markdown",
   "id": "c46482f0",
   "metadata": {
    "id": "45f643b31fc79c63"
   },
   "source": [
    "#### 3.2. Different models generate different outputs due to their different training data, more parameters, and time/cost of training. Think of (or look up) of current events between the models' training data dates. <span color=\"red\">As of writing these notebooks, some have data from Sep 2021 and other up to Apr 2023.</span>"
   ]
  },
  {
   "cell_type": "code",
   "execution_count": null,
   "id": "bbf2d985",
   "metadata": {
    "id": "80cc4f39e36f5b2b"
   },
   "outputs": [],
   "source": [
    "# Insert code here"
   ]
  },
  {
   "cell_type": "markdown",
   "id": "4a13c7d0",
   "metadata": {
    "id": "1bbaefe1e2c3ec6d"
   },
   "source": [
    "#### 3.3. Model names are not the only parameter that can affect the contents of the output. Try asking the same thing by using ```gpt-4``` with a temperature of 2.0.\n",
    "* (**Recommended: Also set max_tokens to a low value, e.g. 128**)."
   ]
  },
  {
   "cell_type": "code",
   "execution_count": null,
   "id": "8df00074",
   "metadata": {
    "id": "69c20104728f89e6"
   },
   "outputs": [],
   "source": [
    "# Insert code here"
   ]
  },
  {
   "cell_type": "markdown",
   "id": "fbb8da5d",
   "metadata": {
    "id": "40ed65cf5ae69922"
   },
   "source": [
    "## Milestone 4: What can you ask GPT?\n",
    "\n",
    "Currently, GPT is one of the most capable LLMs, if not the most capable. In general, there are various tasks you can use it for, which include but are not limited to the following:"
   ]
  },
  {
   "cell_type": "markdown",
   "id": "6e595bd2",
   "metadata": {
    "id": "4cb53fc4b730364e"
   },
   "source": [
    "|                                 Prompts to                                  | Description                                                               | Example                                                                                                       |\n",
    "|:---------------------------------------------------------------------------:|---------------------------------------------------------------------------|---------------------------------------------------------------------------------------------------------------|\n",
    "|                                 ***learn***                                 | Tell GPT to explain a concept to you.                                     | What is an abstract data type?                                                                                |\n",
    "|                                ***look up***                                | Find information about a concept.                                         | Implement the linked list ADT in python:                                                                      |\n",
    "|                              ***investigate***                              | Analyze or compare known information.                                     | Compare the iPhone 12 to the Samsung Galaxy S21:                                                              |\n",
    "|                                ***create***                                 | Creating stories and/or scenarios.                                        | Create a story with the setting at Miami University in Oxford, Ohio, regarding the new Data Science Building: |\n",
    "|                               ***summarize***                               | Summarize large texts.                                                    | Summarize the Lord of the Rings Trilogy:                                                                      |\n",
    "|                                ***improve***                                | Improve grammar of text, or even improve code.                            | Improve or modify Abraham Lincoln's Gettysburg Address:                                                       |\n",
    "|                               ***describe***                                | Describe underlying aspects, like the style of writing or finding biases. | Describe the style of Shakespearean writing:                                                                  |    \n",
    "\n",
    "#### 4.1. Given these tasks, implement three by coming up with your own examples.\n",
    "* If you choose to summarize, ask GPT to summarize the PDF file in \"Figures/Koyama.pdf\"\n",
    "  * Summarization Hint 1: **For summarization, recall in [Models](https://platform.openai.com/docs/models/gpt-4-and-gpt-4-turbo) each models' token limits. To see how many tokens your text contains, you can pass it through OpenAI's [tokenizer](https://platform.openai.com/tokenizer)**.\n",
    "  * Summarization Hint 2: Search online for ways to extract text from a PDF."
   ]
  },
  {
   "cell_type": "code",
   "execution_count": null,
   "id": "216695a7",
   "metadata": {
    "id": "9491fac0150ef9f2"
   },
   "outputs": [],
   "source": [
    "# Example 1 goes here"
   ]
  },
  {
   "cell_type": "code",
   "execution_count": null,
   "id": "f3a3e769",
   "metadata": {
    "id": "aab32a9261c09a17"
   },
   "outputs": [],
   "source": [
    "# Example 2 goes here"
   ]
  },
  {
   "cell_type": "code",
   "execution_count": null,
   "id": "24503579",
   "metadata": {
    "id": "d514844ccda86c35"
   },
   "outputs": [],
   "source": [
    "# Example 3 goes here"
   ]
  },
  {
   "cell_type": "markdown",
   "id": "ce865a45",
   "metadata": {
    "id": "42c9ee20e95feee2"
   },
   "source": [
    "<span color=\"red\"><b>Show Milestones 3-4 to the instructor.</b></span>"
   ]
  },
  {
   "cell_type": "markdown",
   "id": "f9957f2f",
   "metadata": {
    "id": "68e461d3efc7aea5"
   },
   "source": [
    "## Milestone 5: Styling output\n",
    "\n",
    "Because GPT and many other LLMs are trained on lots of text from the internet, it is very knowledgeable in not only information, but also styles and personalities. Let's see what how we could extend the text with various personalities.\n",
    "\n",
    "#### 5.1. Given the prompt, ask GPT to extend the text in 3 variouos styles. For example, you could stylize it based on specific texts, a specific famous person, or even a psychological concept."
   ]
  },
  {
   "cell_type": "code",
   "execution_count": null,
   "id": "f4a537e6",
   "metadata": {
    "id": "b00b7225ed36dc44"
   },
   "outputs": [],
   "source": [
    "prompt = \"According to all known laws of aviation, there is no way that a bee should be able to fly. Its wings are too small to get its fat little body off the ground. The bee, of course, flies anyways. Because bees don't care what humans think is impossible.\"\n",
    "\n",
    "people = []  # Insert 3 different personalities, styles, or whatever suits your idea!"
   ]
  },
  {
   "cell_type": "code",
   "execution_count": null,
   "id": "ea9e9255",
   "metadata": {
    "id": "b6d5cbcd2eb42a5f"
   },
   "outputs": [],
   "source": [
    "# Insert code here"
   ]
  },
  {
   "cell_type": "markdown",
   "id": "37a897ef",
   "metadata": {
    "id": "379dde5bb3ed7e12"
   },
   "source": [
    "## Milestone 6: Roles\n",
    "\n",
    "Very similar to adding style to your prompt, you can also assign roles to GPT. These roles allow the system to give certain behaviors without being injected into the prompt. This way, no matter how long the conversation lasts, the model will maintain the personality given by defining its role. Furthermore, different roles may provide different answers, thus demonstrating the entire knowledge space of the AI model.\n",
    "\n",
    "#### 6.1. Scenario: A juvenile was just incarcerated. Ask GPT to find what the next steps are for the police officer, social worker, and caregiver. However, ask for each role independently, in three different calls instead of one."
   ]
  },
  {
   "cell_type": "code",
   "execution_count": null,
   "id": "01a75571",
   "metadata": {
    "id": "e11fc418fb53c52d"
   },
   "outputs": [],
   "source": [
    "# Insert code here"
   ]
  },
  {
   "cell_type": "markdown",
   "id": "ea41de39",
   "metadata": {
    "id": "ea40804c1f8eb82a"
   },
   "source": [
    "#### <span color=\"red\"><b>Almost done! Show milestones 5-6 to the instructor. Congratulations on getting started with GPT!</b></span>"
   ]
  },
  {
   "cell_type": "markdown",
   "id": "679109f5",
   "metadata": {
    "id": "ef9429f02a5c6afc"
   },
   "source": []
  }
 ],
 "metadata": {
  "kernelspec": {
   "display_name": "Python 3 (ipykernel)",
   "language": "python",
   "name": "python3"
  }
 },
 "nbformat": 4,
 "nbformat_minor": 5
}
